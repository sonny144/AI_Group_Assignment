{
 "cells": [
  {
   "cell_type": "code",
   "execution_count": 1,
   "id": "686943a2",
   "metadata": {},
   "outputs": [],
   "source": [
    "import numpy as np\n",
    "import random\n",
    "import matplotlib.pyplot as plt\n",
    "import itertools\n",
    "import time"
   ]
  },
  {
   "cell_type": "code",
   "execution_count": 2,
   "id": "fce0e4b5",
   "metadata": {},
   "outputs": [],
   "source": [
    "# Distance matrix\n",
    "distances = np.array([\n",
    "    [0, 7, 20, 15, 12],\n",
    "    [10, 0, 6, 14, 18],\n",
    "    [20, 6, 0, 15, 30],\n",
    "    [15, 14, 25, 0, 2],\n",
    "    [12, 18, 30, 2, 0]\n",
    "])"
   ]
  },
  {
   "cell_type": "code",
   "execution_count": 3,
   "id": "dd12251a",
   "metadata": {},
   "outputs": [],
   "source": [
    "# coordinates for the places \n",
    "coordinates = np.array([\n",
    "    [4, 3],  # Dorado Park\n",
    "    [5, 9],  # Khomasdal\n",
    "    [2, 6],  # Katutura\n",
    "    [8, 4],  # Eros\n",
    "    [9, 8]   # Klein Windhoek\n",
    "])"
   ]
  },
  {
   "cell_type": "code",
   "execution_count": 4,
   "id": "b75afd72",
   "metadata": {},
   "outputs": [],
   "source": [
    "# Function to calculate the distance between two points\n",
    "def calculate_distance(point1, point2):\n",
    "    return np.linalg.norm(point1 - point2)"
   ]
  },
  {
   "cell_type": "code",
   "execution_count": 5,
   "id": "afda6d90",
   "metadata": {},
   "outputs": [],
   "source": [
    "# Function to calculate total distance of a route\n",
    "def calculate_total_distance(route, distances):\n",
    "    total_distance = 0\n",
    "    for i in range(len(route)):\n",
    "        total_distance += distances[route[i-1], route[i]]\n",
    "    return total_distance\n"
   ]
  },
  {
   "cell_type": "code",
   "execution_count": 6,
   "id": "3acba328",
   "metadata": {},
   "outputs": [],
   "source": [
    "# Function to generate a random initial route\n",
    "def generate_initial_route(number_of_places):\n",
    "    route = list(range(number_of_places))\n",
    "    random.shuffle(route)\n",
    "    return route"
   ]
  },
  {
   "cell_type": "code",
   "execution_count": 7,
   "id": "9d093d11",
   "metadata": {},
   "outputs": [],
   "source": [
    "# Function to find a neighbour by swapping two places\n",
    "def find_neighbour(route):\n",
    "    neighbour = route.copy()\n",
    "    a, b = random.sample(range(len(route)), 2)\n",
    "    neighbour[a], neighbour[b] = neighbour[b], neighbour[a]\n",
    "    return neighbour\n"
   ]
  },
  {
   "cell_type": "code",
   "execution_count": 8,
   "id": "37d84e5c",
   "metadata": {},
   "outputs": [],
   "source": [
    "# Hill climbing algorithm\n",
    "def hill_climbing(distances, max_iterations=1000):\n",
    "    current_route = generate_initial_route(len(distances))\n",
    "    current_distance = calculate_total_distance(current_route, distances)\n",
    "    iterations = 0\n",
    "    \n",
    "    while iterations < max_iterations:\n",
    "        neighbour = find_neighbour(current_route)\n",
    "        neighbour_distance = calculate_total_distance(neighbour, distances)\n",
    "        \n",
    "        if neighbour_distance < current_distance:\n",
    "            current_route, current_distance = neighbour, neighbour_distance\n",
    "        \n",
    "        iterations += 1\n",
    "    \n",
    "    return current_route, current_distance"
   ]
  },
  {
   "cell_type": "code",
   "execution_count": 9,
   "id": "cdf6cd34",
   "metadata": {},
   "outputs": [],
   "source": [
    "# Function to run hill climbing on various test cases with different numbers of places\n",
    "def run_hill_climbing_test(num_places_list, distances):\n",
    "    results = {}\n",
    "    for num_places in num_places_list:\n",
    "        start_time = time.time()\n",
    "        best_route, best_distance = hill_climbing(distances[:num_places, :num_places])\n",
    "        end_time = time.time()\n",
    "        results[num_places] = {'best_route': best_route, 'best_distance': best_distance, 'runtime': end_time - start_time}\n",
    "    return results\n"
   ]
  },
  {
   "cell_type": "code",
   "execution_count": 10,
   "id": "b2fd618e",
   "metadata": {},
   "outputs": [],
   "source": [
    "# Function to calculate the optimal solution exhaustively for a small number of cities\n",
    "def calculate_optimal_solution_exhaustively(distances):\n",
    "    min_distance = float('inf')\n",
    "    optimal_route = None\n",
    "    num_places = len(distances)\n",
    "    for permutation in itertools.permutations(range(num_places)):\n",
    "        total_distance = calculate_total_distance(permutation, distances)\n",
    "        if total_distance < min_distance:\n",
    "            min_distance = total_distance\n",
    "            optimal_route = permutation\n",
    "    return optimal_route, min_distance"
   ]
  },
  {
   "cell_type": "code",
   "execution_count": 11,
   "id": "cc194925",
   "metadata": {},
   "outputs": [],
   "source": [
    "# Function to compare the total distance found by the algorithm with the optimal distance\n",
    "def compare_with_optimal(results, distances):\n",
    "    optimal_route, optimal_distance = calculate_optimal_solution_exhaustively(distances)\n",
    "    print(f\"Optimal Distance: {optimal_distance}\")\n",
    "    for num_places, result in results.items():\n",
    "        print(f\"Number of Places: {num_places}\")\n",
    "        print(f\"Best Distance Found: {result['best_distance']}\")\n",
    "        print(f\"Improvement over Optimal: {optimal_distance - result['best_distance']}\")\n",
    "        print(f\"Runtime: {result['runtime']} seconds\")\n",
    "        print()\n"
   ]
  },
  {
   "cell_type": "code",
   "execution_count": 12,
   "id": "7a4122e5",
   "metadata": {},
   "outputs": [],
   "source": [
    "# Function to analyze the impact of the number of iterations on the quality of the solution found\n",
    "def analyze_iteration_impact(num_iterations_list, distances):\n",
    "    results = {}\n",
    "    for num_iterations in num_iterations_list:\n",
    "        best_route, best_distance = hill_climbing(distances, max_iterations=num_iterations)\n",
    "        results[num_iterations] = {'best_route': best_route, 'best_distance': best_distance}\n",
    "    return results"
   ]
  },
  {
   "cell_type": "code",
   "execution_count": 13,
   "id": "2e109efe",
   "metadata": {},
   "outputs": [],
   "source": [
    "# Visualization function\n",
    "def visualize_route(route, coordinates):\n",
    "    plt.figure(figsize=(10, 6))\n",
    "    # Plot the points\n",
    "    for i in range(len(route)):\n",
    "        plt.plot(coordinates[route[i-1:i+1], 0], coordinates[route[i-1:i+1], 1], 'ro-')\n",
    "    for i, txt in enumerate(route):\n",
    "        plt.annotate(txt, (coordinates[i][0], coordinates[i][1]))\n",
    "    plt.xlabel('X Coordinate')\n",
    "    plt.ylabel('Y Coordinate')\n",
    "    plt.title('Route Visualization')\n",
    "    plt.show()"
   ]
  },
  {
   "cell_type": "code",
   "execution_count": 14,
   "id": "62429727",
   "metadata": {},
   "outputs": [],
   "source": [
    "# Test the hill climbing algorithm with different numbers of places\n",
    "num_places_list = [5, 10, 15]\n",
    "results = run_hill_climbing_test(num_places_list, distances)\n"
   ]
  },
  {
   "cell_type": "code",
   "execution_count": 15,
   "id": "f2db6daf",
   "metadata": {},
   "outputs": [
    {
     "name": "stdout",
     "output_type": "stream",
     "text": [
      "Optimal Distance: 42\n",
      "Number of Places: 5\n",
      "Best Distance Found: 42\n",
      "Improvement over Optimal: 0\n",
      "Runtime: 0.005609035491943359 seconds\n",
      "\n",
      "Number of Places: 10\n",
      "Best Distance Found: 42\n",
      "Improvement over Optimal: 0\n",
      "Runtime: 0.00506281852722168 seconds\n",
      "\n",
      "Number of Places: 15\n",
      "Best Distance Found: 42\n",
      "Improvement over Optimal: 0\n",
      "Runtime: 0.005434989929199219 seconds\n",
      "\n"
     ]
    }
   ],
   "source": [
    "# Compare the total distance found by the algorithm with the optimal distance\n",
    "compare_with_optimal(results, distances)"
   ]
  },
  {
   "cell_type": "code",
   "execution_count": 16,
   "id": "902dbfa0",
   "metadata": {},
   "outputs": [
    {
     "name": "stdout",
     "output_type": "stream",
     "text": [
      "Number of Iterations: 100\n",
      "Best Distance Found: 42\n",
      "\n",
      "Number of Iterations: 500\n",
      "Best Distance Found: 42\n",
      "\n",
      "Number of Iterations: 1000\n",
      "Best Distance Found: 42\n",
      "\n",
      "Number of Iterations: 2000\n",
      "Best Distance Found: 42\n",
      "\n"
     ]
    }
   ],
   "source": [
    "# Analyze the impact of the number of iterations on the quality of the solution found\n",
    "num_iterations_list = [100, 500, 1000, 2000]\n",
    "iteration_results = analyze_iteration_impact(num_iterations_list, distances)\n",
    "for num_iterations, result in iteration_results.items():\n",
    "    print(f\"Number of Iterations: {num_iterations}\")\n",
    "    print(f\"Best Distance Found: {result['best_distance']}\")\n",
    "    print()"
   ]
  },
  {
   "cell_type": "code",
   "execution_count": 17,
   "id": "6bfa262f",
   "metadata": {},
   "outputs": [
    {
     "data": {
      "image/png": "[encoded data removed]",
      "text/plain": [
       "<Figure size 1000x600 with 1 Axes>"
      ]
     },
     "metadata": {},
     "output_type": "display_data"
    }
   ],
   "source": [
    "# Visualize the route\n",
    "visualize_route(results[5]['best_route'], coordinates)"
   ]
  },
  {
   "cell_type": "code",
   "execution_count": null,
   "id": "ede8edc3",
   "metadata": {},
   "outputs": [],
   "source": []
  }
 ],
 "metadata": {
  "kernelspec": {
   "display_name": "Python 3 (ipykernel)",
   "language": "python",
   "name": "python3"
  },
  "language_info": {
   "codemirror_mode": {
    "name": "ipython",
    "version": 3
   },
   "file_extension": ".py",
   "mimetype": "text/x-python",
   "name": "python",
   "nbconvert_exporter": "python",
   "pygments_lexer": "ipython3",
   "version": "3.11.3"
  }
 },
 "nbformat": 4,
 "nbformat_minor": 5
}
